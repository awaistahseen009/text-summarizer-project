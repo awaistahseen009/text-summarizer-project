{
 "cells": [
  {
   "cell_type": "code",
   "execution_count": 20,
   "metadata": {},
   "outputs": [],
   "source": [
    "import os\n",
    "from pathlib import Path\n",
    "from dataclasses import dataclass"
   ]
  },
  {
   "cell_type": "code",
   "execution_count": 8,
   "metadata": {},
   "outputs": [],
   "source": [
    "os.chdir(\"../\")"
   ]
  },
  {
   "cell_type": "code",
   "execution_count": 9,
   "metadata": {},
   "outputs": [
    {
     "data": {
      "text/plain": [
       "'d:\\\\text\\\\text-summarizer-project'"
      ]
     },
     "execution_count": 9,
     "metadata": {},
     "output_type": "execute_result"
    }
   ],
   "source": [
    "%pwd"
   ]
  },
  {
   "cell_type": "code",
   "execution_count": 10,
   "metadata": {},
   "outputs": [
    {
     "name": "stdout",
     "output_type": "stream",
     "text": [
      " Volume in drive D is New Volume\n",
      " Volume Serial Number is 2029-FA7D\n",
      "\n",
      " Directory of d:\\text\\text-summarizer-project\n",
      "\n",
      "23/08/2023  11:16 am    <DIR>          .\n",
      "22/08/2023  06:34 pm    <DIR>          ..\n",
      "22/08/2023  07:56 pm    <DIR>          .github\n",
      "22/08/2023  06:34 pm             3,238 .gitignore\n",
      "23/08/2023  11:16 am    <DIR>          .idea\n",
      "22/08/2023  07:56 pm                 0 app.py\n",
      "23/08/2023  10:40 am    <DIR>          build\n",
      "22/08/2023  07:56 pm    <DIR>          config\n",
      "22/08/2023  07:56 pm                 0 DockerFile\n",
      "23/08/2023  11:41 am    <DIR>          experiment\n",
      "22/08/2023  06:34 pm             1,091 LICENSE\n",
      "22/08/2023  09:05 pm    <DIR>          logs\n",
      "22/08/2023  09:01 pm                74 main.py\n",
      "23/08/2023  11:44 am                10 params.yaml\n",
      "22/08/2023  10:56 pm               156 README.md\n",
      "22/08/2023  08:33 pm               290 requirements.txt\n",
      "23/08/2023  11:08 am               576 setup.py\n",
      "23/08/2023  10:48 am    <DIR>          src\n",
      "22/08/2023  07:55 pm             1,339 template.py\n",
      "              10 File(s)          6,774 bytes\n",
      "               9 Dir(s)  176,606,662,656 bytes free\n"
     ]
    }
   ],
   "source": [
    "%ls"
   ]
  },
  {
   "cell_type": "code",
   "execution_count": 23,
   "metadata": {},
   "outputs": [],
   "source": [
    "from text_summarizer.constants import *"
   ]
  },
  {
   "cell_type": "code",
   "execution_count": 14,
   "metadata": {},
   "outputs": [],
   "source": [
    "from text_summarizer.utils.common import read_yaml,create_dirs"
   ]
  },
  {
   "cell_type": "code",
   "execution_count": 15,
   "metadata": {},
   "outputs": [],
   "source": [
    "@dataclass(frozen=True)\n",
    "class DataExtractionConfig:\n",
    "    root_dir: Path \n",
    "    source: str\n",
    "    local_data: Path \n",
    "    unzip_dir:Path "
   ]
  },
  {
   "cell_type": "code",
   "execution_count": 43,
   "metadata": {},
   "outputs": [],
   "source": [
    "class ConfigurationManager:\n",
    "    def __init__(\n",
    "        self,\n",
    "        config_path=CONFIG_FILE_PATH,\n",
    "        param_path=PARAM_FILE_PATH\n",
    "    ):\n",
    "        self.config=read_yaml(config_path)\n",
    "        self.params=read_yaml(param_path)\n",
    "        create_dirs([self.config.artifacts_root])\n",
    "\n",
    "    def get_data_extraction_config(self)->DataExtractionConfig:\n",
    "        create_dirs([self.config.data_extraction.root_dir])\n",
    "        data_extraction_config=DataExtractionConfig(\n",
    "            root_dir=self.config.data_extraction.root_dir,\n",
    "            source= self.config.data_extraction.source,\n",
    "            local_data=self.config.data_extraction.local_data,\n",
    "            unzip_dir=self.config.data_extraction.unzip_dir\n",
    "        )\n",
    "        return data_extraction_config\n",
    "        "
   ]
  },
  {
   "cell_type": "code",
   "execution_count": 32,
   "metadata": {},
   "outputs": [],
   "source": [
    "import urllib.request as request \n",
    "import zipfile\n",
    "from text_summarizer.logging import logger\n",
    "from text_summarizer.utils.common import get_file_size"
   ]
  },
  {
   "cell_type": "markdown",
   "metadata": {},
   "source": [
    "### Components"
   ]
  },
  {
   "cell_type": "code",
   "execution_count": 33,
   "metadata": {},
   "outputs": [],
   "source": [
    "class DataExtraction:\n",
    "    def __init__(self,config:DataExtractionConfig):\n",
    "        self.config=config\n",
    "    def download_file(self):\n",
    "        if  not os.path.exists(self.config.local_data):\n",
    "            filename,headers=request.urlretrieve(\n",
    "                url=self.config.source,\n",
    "                filename=self.config.local_data\n",
    "            )\n",
    "            logger.info(f\"File {filename} downloading with headers {headers}\")\n",
    "        else:\n",
    "            logger.info(f\"File {filename} already exits with size {get_file_size(Path(self.config.local_data))} \")\n",
    "    def extract_zip_file(self):\n",
    "        unzip_path=self.config.unzip_dir\n",
    "        os.makedirs(unzip_path,exist_ok=True)\n",
    "        with zipfile.ZipFile(self.config.local_data,'r') as ref:\n",
    "            ref.extractall(unzip_path)"
   ]
  },
  {
   "cell_type": "markdown",
   "metadata": {},
   "source": [
    "## Pipeline"
   ]
  },
  {
   "cell_type": "code",
   "execution_count": 44,
   "metadata": {},
   "outputs": [
    {
     "name": "stdout",
     "output_type": "stream",
     "text": [
      "[2023-08-23 12:26:22,605: INFO: common Successfully loaded config\\config.yaml ,yaml file]\n",
      "[2023-08-23 12:26:22,607: INFO: common Successfully loaded params.yaml ,yaml file]\n",
      "[2023-08-23 12:26:52,804: INFO: 3046373883 File artifacts/data_extraction/data.zip downloading with headers Connection: close\n",
      "Content-Length: 7903594\n",
      "Cache-Control: max-age=300\n",
      "Content-Security-Policy: default-src 'none'; style-src 'unsafe-inline'; sandbox\n",
      "Content-Type: application/zip\n",
      "ETag: \"dbc016a060da18070593b83afff580c9b300f0b6ea4147a7988433e04df246ca\"\n",
      "Strict-Transport-Security: max-age=31536000\n",
      "X-Content-Type-Options: nosniff\n",
      "X-Frame-Options: deny\n",
      "X-XSS-Protection: 1; mode=block\n",
      "X-GitHub-Request-Id: C43C:4D0D:17F25C:1B5910:64E5B4A2\n",
      "Accept-Ranges: bytes\n",
      "Date: Wed, 23 Aug 2023 07:26:27 GMT\n",
      "Via: 1.1 varnish\n",
      "X-Served-By: cache-qpg1245-QPG\n",
      "X-Cache: MISS\n",
      "X-Cache-Hits: 0\n",
      "X-Timer: S1692775587.525946,VS0,VE629\n",
      "Vary: Authorization,Accept-Encoding,Origin\n",
      "Access-Control-Allow-Origin: *\n",
      "Cross-Origin-Resource-Policy: cross-origin\n",
      "X-Fastly-Request-ID: 63117d11e4e8c34a0e3a6f39ccd5e7ace8316578\n",
      "Expires: Wed, 23 Aug 2023 07:31:27 GMT\n",
      "Source-Age: 0\n",
      "\n",
      "]\n"
     ]
    }
   ],
   "source": [
    "try:\n",
    "    config=ConfigurationManager()\n",
    "    data_extraction_config=config.get_data_extraction_config()\n",
    "    data_extraction=DataExtraction(config=data_extraction_config)\n",
    "    data_extraction.download_file()\n",
    "    data_extraction.extract_zip_file()\n",
    "except Exception as e:\n",
    "    raise e\n",
    "    \n"
   ]
  },
  {
   "cell_type": "code",
   "execution_count": null,
   "metadata": {},
   "outputs": [],
   "source": []
  },
  {
   "cell_type": "code",
   "execution_count": null,
   "metadata": {},
   "outputs": [],
   "source": []
  }
 ],
 "metadata": {
  "kernelspec": {
   "display_name": "text_summarization",
   "language": "python",
   "name": "python3"
  },
  "language_info": {
   "codemirror_mode": {
    "name": "ipython",
    "version": 3
   },
   "file_extension": ".py",
   "mimetype": "text/x-python",
   "name": "python",
   "nbconvert_exporter": "python",
   "pygments_lexer": "ipython3",
   "version": "3.11.4"
  },
  "orig_nbformat": 4
 },
 "nbformat": 4,
 "nbformat_minor": 2
}
